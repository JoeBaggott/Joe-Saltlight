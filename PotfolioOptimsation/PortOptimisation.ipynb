{
 "cells": [
  {
   "cell_type": "code",
   "execution_count": 1,
   "metadata": {},
   "outputs": [],
   "source": [
    "import yfinance as yf\n",
    "import pandas as pd\n",
    "from datetime import datetime, timedelta\n",
    "import numpy as np \n",
    "from scipy.optimize import minimize\n",
    "\n",
    "from fredapi import Fred    \n"
   ]
  },
  {
   "cell_type": "code",
   "execution_count": 2,
   "metadata": {},
   "outputs": [],
   "source": [
    "tickers = ['spy','BND','GLD','QQQ','VTI']"
   ]
  },
  {
   "cell_type": "code",
   "execution_count": 3,
   "metadata": {},
   "outputs": [],
   "source": [
    "end_date = datetime.today()"
   ]
  },
  {
   "cell_type": "code",
   "execution_count": 4,
   "metadata": {},
   "outputs": [
    {
     "data": {
      "text/plain": [
       "datetime.datetime(2020, 3, 10, 16, 4, 15, 124859)"
      ]
     },
     "execution_count": 4,
     "metadata": {},
     "output_type": "execute_result"
    }
   ],
   "source": [
    "start_date = end_date - timedelta(days=365*5)\n",
    "start_date"
   ]
  },
  {
   "cell_type": "markdown",
   "metadata": {},
   "source": [
    "# Downloading Adjusted Close Prices"
   ]
  },
  {
   "cell_type": "code",
   "execution_count": 5,
   "metadata": {},
   "outputs": [],
   "source": [
    "adj_close = pd.DataFrame()"
   ]
  },
  {
   "cell_type": "code",
   "execution_count": 6,
   "metadata": {},
   "outputs": [
    {
     "name": "stdout",
     "output_type": "stream",
     "text": [
      "YF.download() has changed argument auto_adjust default to True\n"
     ]
    },
    {
     "name": "stderr",
     "output_type": "stream",
     "text": [
      "[*********************100%***********************]  1 of 1 completed\n",
      "[*********************100%***********************]  1 of 1 completed\n",
      "[*********************100%***********************]  1 of 1 completed\n",
      "[*********************100%***********************]  1 of 1 completed\n",
      "[*********************100%***********************]  1 of 1 completed\n"
     ]
    }
   ],
   "source": [
    "for ticker in tickers:\n",
    "    data = yf.download(ticker, start=start_date, end=end_date)\n",
    "    adj_close[ticker] = data['Close']\n"
   ]
  },
  {
   "cell_type": "code",
   "execution_count": 7,
   "metadata": {},
   "outputs": [
    {
     "data": {
      "text/html": [
       "<div>\n",
       "<style scoped>\n",
       "    .dataframe tbody tr th:only-of-type {\n",
       "        vertical-align: middle;\n",
       "    }\n",
       "\n",
       "    .dataframe tbody tr th {\n",
       "        vertical-align: top;\n",
       "    }\n",
       "\n",
       "    .dataframe thead th {\n",
       "        text-align: right;\n",
       "    }\n",
       "</style>\n",
       "<table border=\"1\" class=\"dataframe\">\n",
       "  <thead>\n",
       "    <tr style=\"text-align: right;\">\n",
       "      <th></th>\n",
       "      <th>spy</th>\n",
       "      <th>BND</th>\n",
       "      <th>GLD</th>\n",
       "      <th>QQQ</th>\n",
       "      <th>VTI</th>\n",
       "    </tr>\n",
       "    <tr>\n",
       "      <th>Date</th>\n",
       "      <th></th>\n",
       "      <th></th>\n",
       "      <th></th>\n",
       "      <th></th>\n",
       "      <th></th>\n",
       "    </tr>\n",
       "  </thead>\n",
       "  <tbody>\n",
       "    <tr>\n",
       "      <th>2020-03-10</th>\n",
       "      <td>267.401245</td>\n",
       "      <td>75.312263</td>\n",
       "      <td>154.479996</td>\n",
       "      <td>197.951614</td>\n",
       "      <td>134.729370</td>\n",
       "    </tr>\n",
       "    <tr>\n",
       "      <th>2020-03-11</th>\n",
       "      <td>254.365753</td>\n",
       "      <td>73.885864</td>\n",
       "      <td>153.929993</td>\n",
       "      <td>189.329803</td>\n",
       "      <td>127.908112</td>\n",
       "    </tr>\n",
       "    <tr>\n",
       "      <th>2020-03-12</th>\n",
       "      <td>230.028809</td>\n",
       "      <td>69.867546</td>\n",
       "      <td>147.789993</td>\n",
       "      <td>171.969925</td>\n",
       "      <td>115.470398</td>\n",
       "    </tr>\n",
       "    <tr>\n",
       "      <th>2020-03-13</th>\n",
       "      <td>249.693161</td>\n",
       "      <td>72.816017</td>\n",
       "      <td>143.279999</td>\n",
       "      <td>186.536728</td>\n",
       "      <td>125.980331</td>\n",
       "    </tr>\n",
       "    <tr>\n",
       "      <th>2020-03-16</th>\n",
       "      <td>222.370789</td>\n",
       "      <td>73.581413</td>\n",
       "      <td>141.639999</td>\n",
       "      <td>164.191910</td>\n",
       "      <td>111.642693</td>\n",
       "    </tr>\n",
       "    <tr>\n",
       "      <th>...</th>\n",
       "      <td>...</td>\n",
       "      <td>...</td>\n",
       "      <td>...</td>\n",
       "      <td>...</td>\n",
       "      <td>...</td>\n",
       "    </tr>\n",
       "    <tr>\n",
       "      <th>2025-03-03</th>\n",
       "      <td>583.770020</td>\n",
       "      <td>73.610001</td>\n",
       "      <td>266.739990</td>\n",
       "      <td>497.049988</td>\n",
       "      <td>287.709991</td>\n",
       "    </tr>\n",
       "    <tr>\n",
       "      <th>2025-03-04</th>\n",
       "      <td>576.859985</td>\n",
       "      <td>73.400002</td>\n",
       "      <td>269.059998</td>\n",
       "      <td>495.549988</td>\n",
       "      <td>284.119995</td>\n",
       "    </tr>\n",
       "    <tr>\n",
       "      <th>2025-03-05</th>\n",
       "      <td>583.059998</td>\n",
       "      <td>73.139999</td>\n",
       "      <td>269.619995</td>\n",
       "      <td>502.010010</td>\n",
       "      <td>287.350006</td>\n",
       "    </tr>\n",
       "    <tr>\n",
       "      <th>2025-03-06</th>\n",
       "      <td>572.710022</td>\n",
       "      <td>73.080002</td>\n",
       "      <td>268.250000</td>\n",
       "      <td>488.200012</td>\n",
       "      <td>282.010010</td>\n",
       "    </tr>\n",
       "    <tr>\n",
       "      <th>2025-03-07</th>\n",
       "      <td>575.919983</td>\n",
       "      <td>73.000000</td>\n",
       "      <td>268.390015</td>\n",
       "      <td>491.790009</td>\n",
       "      <td>283.339996</td>\n",
       "    </tr>\n",
       "  </tbody>\n",
       "</table>\n",
       "<p>1256 rows × 5 columns</p>\n",
       "</div>"
      ],
      "text/plain": [
       "                   spy        BND         GLD         QQQ         VTI\n",
       "Date                                                                 \n",
       "2020-03-10  267.401245  75.312263  154.479996  197.951614  134.729370\n",
       "2020-03-11  254.365753  73.885864  153.929993  189.329803  127.908112\n",
       "2020-03-12  230.028809  69.867546  147.789993  171.969925  115.470398\n",
       "2020-03-13  249.693161  72.816017  143.279999  186.536728  125.980331\n",
       "2020-03-16  222.370789  73.581413  141.639999  164.191910  111.642693\n",
       "...                ...        ...         ...         ...         ...\n",
       "2025-03-03  583.770020  73.610001  266.739990  497.049988  287.709991\n",
       "2025-03-04  576.859985  73.400002  269.059998  495.549988  284.119995\n",
       "2025-03-05  583.059998  73.139999  269.619995  502.010010  287.350006\n",
       "2025-03-06  572.710022  73.080002  268.250000  488.200012  282.010010\n",
       "2025-03-07  575.919983  73.000000  268.390015  491.790009  283.339996\n",
       "\n",
       "[1256 rows x 5 columns]"
      ]
     },
     "execution_count": 7,
     "metadata": {},
     "output_type": "execute_result"
    }
   ],
   "source": [
    "adj_close"
   ]
  },
  {
   "cell_type": "code",
   "execution_count": 8,
   "metadata": {},
   "outputs": [],
   "source": [
    "log_returns = np.log(adj_close/adj_close.shift(1))"
   ]
  },
  {
   "cell_type": "code",
   "execution_count": 9,
   "metadata": {},
   "outputs": [
    {
     "data": {
      "text/html": [
       "<div>\n",
       "<style scoped>\n",
       "    .dataframe tbody tr th:only-of-type {\n",
       "        vertical-align: middle;\n",
       "    }\n",
       "\n",
       "    .dataframe tbody tr th {\n",
       "        vertical-align: top;\n",
       "    }\n",
       "\n",
       "    .dataframe thead th {\n",
       "        text-align: right;\n",
       "    }\n",
       "</style>\n",
       "<table border=\"1\" class=\"dataframe\">\n",
       "  <thead>\n",
       "    <tr style=\"text-align: right;\">\n",
       "      <th></th>\n",
       "      <th>spy</th>\n",
       "      <th>BND</th>\n",
       "      <th>GLD</th>\n",
       "      <th>QQQ</th>\n",
       "      <th>VTI</th>\n",
       "    </tr>\n",
       "    <tr>\n",
       "      <th>Date</th>\n",
       "      <th></th>\n",
       "      <th></th>\n",
       "      <th></th>\n",
       "      <th></th>\n",
       "      <th></th>\n",
       "    </tr>\n",
       "  </thead>\n",
       "  <tbody>\n",
       "    <tr>\n",
       "      <th>2020-03-10</th>\n",
       "      <td>NaN</td>\n",
       "      <td>NaN</td>\n",
       "      <td>NaN</td>\n",
       "      <td>NaN</td>\n",
       "      <td>NaN</td>\n",
       "    </tr>\n",
       "    <tr>\n",
       "      <th>2020-03-11</th>\n",
       "      <td>-0.049977</td>\n",
       "      <td>-0.019121</td>\n",
       "      <td>-0.003567</td>\n",
       "      <td>-0.044532</td>\n",
       "      <td>-0.051956</td>\n",
       "    </tr>\n",
       "    <tr>\n",
       "      <th>2020-03-12</th>\n",
       "      <td>-0.100569</td>\n",
       "      <td>-0.055920</td>\n",
       "      <td>-0.040706</td>\n",
       "      <td>-0.096171</td>\n",
       "      <td>-0.102298</td>\n",
       "    </tr>\n",
       "    <tr>\n",
       "      <th>2020-03-13</th>\n",
       "      <td>0.082028</td>\n",
       "      <td>0.041335</td>\n",
       "      <td>-0.030992</td>\n",
       "      <td>0.081309</td>\n",
       "      <td>0.087112</td>\n",
       "    </tr>\n",
       "    <tr>\n",
       "      <th>2020-03-16</th>\n",
       "      <td>-0.115887</td>\n",
       "      <td>0.010457</td>\n",
       "      <td>-0.011512</td>\n",
       "      <td>-0.127592</td>\n",
       "      <td>-0.120822</td>\n",
       "    </tr>\n",
       "    <tr>\n",
       "      <th>...</th>\n",
       "      <td>...</td>\n",
       "      <td>...</td>\n",
       "      <td>...</td>\n",
       "      <td>...</td>\n",
       "      <td>...</td>\n",
       "    </tr>\n",
       "    <tr>\n",
       "      <th>2025-03-03</th>\n",
       "      <td>-0.017675</td>\n",
       "      <td>0.002299</td>\n",
       "      <td>0.013094</td>\n",
       "      <td>-0.022125</td>\n",
       "      <td>-0.018083</td>\n",
       "    </tr>\n",
       "    <tr>\n",
       "      <th>2025-03-04</th>\n",
       "      <td>-0.011908</td>\n",
       "      <td>-0.002857</td>\n",
       "      <td>0.008660</td>\n",
       "      <td>-0.003022</td>\n",
       "      <td>-0.012556</td>\n",
       "    </tr>\n",
       "    <tr>\n",
       "      <th>2025-03-05</th>\n",
       "      <td>0.010691</td>\n",
       "      <td>-0.003549</td>\n",
       "      <td>0.002079</td>\n",
       "      <td>0.012952</td>\n",
       "      <td>0.011304</td>\n",
       "    </tr>\n",
       "    <tr>\n",
       "      <th>2025-03-06</th>\n",
       "      <td>-0.017911</td>\n",
       "      <td>-0.000821</td>\n",
       "      <td>-0.005094</td>\n",
       "      <td>-0.027895</td>\n",
       "      <td>-0.018758</td>\n",
       "    </tr>\n",
       "    <tr>\n",
       "      <th>2025-03-07</th>\n",
       "      <td>0.005589</td>\n",
       "      <td>-0.001095</td>\n",
       "      <td>0.000522</td>\n",
       "      <td>0.007327</td>\n",
       "      <td>0.004705</td>\n",
       "    </tr>\n",
       "  </tbody>\n",
       "</table>\n",
       "<p>1256 rows × 5 columns</p>\n",
       "</div>"
      ],
      "text/plain": [
       "                 spy       BND       GLD       QQQ       VTI\n",
       "Date                                                        \n",
       "2020-03-10       NaN       NaN       NaN       NaN       NaN\n",
       "2020-03-11 -0.049977 -0.019121 -0.003567 -0.044532 -0.051956\n",
       "2020-03-12 -0.100569 -0.055920 -0.040706 -0.096171 -0.102298\n",
       "2020-03-13  0.082028  0.041335 -0.030992  0.081309  0.087112\n",
       "2020-03-16 -0.115887  0.010457 -0.011512 -0.127592 -0.120822\n",
       "...              ...       ...       ...       ...       ...\n",
       "2025-03-03 -0.017675  0.002299  0.013094 -0.022125 -0.018083\n",
       "2025-03-04 -0.011908 -0.002857  0.008660 -0.003022 -0.012556\n",
       "2025-03-05  0.010691 -0.003549  0.002079  0.012952  0.011304\n",
       "2025-03-06 -0.017911 -0.000821 -0.005094 -0.027895 -0.018758\n",
       "2025-03-07  0.005589 -0.001095  0.000522  0.007327  0.004705\n",
       "\n",
       "[1256 rows x 5 columns]"
      ]
     },
     "execution_count": 9,
     "metadata": {},
     "output_type": "execute_result"
    }
   ],
   "source": [
    "log_returns"
   ]
  },
  {
   "cell_type": "markdown",
   "metadata": {},
   "source": [
    "# Calculating the Covariance"
   ]
  },
  {
   "cell_type": "code",
   "execution_count": 10,
   "metadata": {},
   "outputs": [
    {
     "data": {
      "text/html": [
       "<div>\n",
       "<style scoped>\n",
       "    .dataframe tbody tr th:only-of-type {\n",
       "        vertical-align: middle;\n",
       "    }\n",
       "\n",
       "    .dataframe tbody tr th {\n",
       "        vertical-align: top;\n",
       "    }\n",
       "\n",
       "    .dataframe thead th {\n",
       "        text-align: right;\n",
       "    }\n",
       "</style>\n",
       "<table border=\"1\" class=\"dataframe\">\n",
       "  <thead>\n",
       "    <tr style=\"text-align: right;\">\n",
       "      <th></th>\n",
       "      <th>spy</th>\n",
       "      <th>BND</th>\n",
       "      <th>GLD</th>\n",
       "      <th>QQQ</th>\n",
       "      <th>VTI</th>\n",
       "    </tr>\n",
       "  </thead>\n",
       "  <tbody>\n",
       "    <tr>\n",
       "      <th>spy</th>\n",
       "      <td>0.041027</td>\n",
       "      <td>0.003513</td>\n",
       "      <td>0.005883</td>\n",
       "      <td>0.047239</td>\n",
       "      <td>0.042183</td>\n",
       "    </tr>\n",
       "    <tr>\n",
       "      <th>BND</th>\n",
       "      <td>0.003513</td>\n",
       "      <td>0.004936</td>\n",
       "      <td>0.003679</td>\n",
       "      <td>0.004146</td>\n",
       "      <td>0.003709</td>\n",
       "    </tr>\n",
       "    <tr>\n",
       "      <th>GLD</th>\n",
       "      <td>0.005883</td>\n",
       "      <td>0.003679</td>\n",
       "      <td>0.023791</td>\n",
       "      <td>0.007743</td>\n",
       "      <td>0.006068</td>\n",
       "    </tr>\n",
       "    <tr>\n",
       "      <th>QQQ</th>\n",
       "      <td>0.047239</td>\n",
       "      <td>0.004146</td>\n",
       "      <td>0.007743</td>\n",
       "      <td>0.063200</td>\n",
       "      <td>0.048465</td>\n",
       "    </tr>\n",
       "    <tr>\n",
       "      <th>VTI</th>\n",
       "      <td>0.042183</td>\n",
       "      <td>0.003709</td>\n",
       "      <td>0.006068</td>\n",
       "      <td>0.048465</td>\n",
       "      <td>0.043744</td>\n",
       "    </tr>\n",
       "  </tbody>\n",
       "</table>\n",
       "</div>"
      ],
      "text/plain": [
       "          spy       BND       GLD       QQQ       VTI\n",
       "spy  0.041027  0.003513  0.005883  0.047239  0.042183\n",
       "BND  0.003513  0.004936  0.003679  0.004146  0.003709\n",
       "GLD  0.005883  0.003679  0.023791  0.007743  0.006068\n",
       "QQQ  0.047239  0.004146  0.007743  0.063200  0.048465\n",
       "VTI  0.042183  0.003709  0.006068  0.048465  0.043744"
      ]
     },
     "execution_count": 10,
     "metadata": {},
     "output_type": "execute_result"
    }
   ],
   "source": [
    "cov_matrix = log_returns.cov()*252\n",
    "cov_matrix"
   ]
  },
  {
   "cell_type": "markdown",
   "metadata": {},
   "source": [
    "# Defining portfolio performance metrics"
   ]
  },
  {
   "cell_type": "code",
   "execution_count": 11,
   "metadata": {},
   "outputs": [],
   "source": [
    "def standard_deviation (weights, cov_matrix):\n",
    "    variance = weights.T @ cov_matrix @ weights\n",
    "    return np.sqrt(variance)"
   ]
  },
  {
   "cell_type": "markdown",
   "metadata": {},
   "source": [
    "## calculate expected returns"
   ]
  },
  {
   "cell_type": "code",
   "execution_count": 12,
   "metadata": {},
   "outputs": [],
   "source": [
    "def expected_return (weights, log_returns):\n",
    "    return np.sum(log_returns.mean()*weights)*252 ## 252 traiding days in the year..."
   ]
  },
  {
   "cell_type": "markdown",
   "metadata": {},
   "source": [
    "## Calculate the sharp ratio"
   ]
  },
  {
   "cell_type": "code",
   "execution_count": 13,
   "metadata": {},
   "outputs": [],
   "source": [
    "def sharpe_ratio(weights, log_returns, cov_matrix, risk_free_rate):\n",
    "    return(expected_return(weights, log_returns) - risk_free_rate)/standard_deviation(weights, cov_matrix)"
   ]
  },
  {
   "cell_type": "markdown",
   "metadata": {},
   "source": [
    "# Getting the risk free rate."
   ]
  },
  {
   "cell_type": "code",
   "execution_count": 14,
   "metadata": {},
   "outputs": [],
   "source": [
    "fred = Fred(api_key='56573fff95fcef94dc89f1dfef310615')\n",
    "ten_year_treasury_rate = fred.get_series_latest_release('GS10')/100"
   ]
  },
  {
   "cell_type": "code",
   "execution_count": 15,
   "metadata": {},
   "outputs": [
    {
     "data": {
      "text/plain": [
       "0.05548030127462341"
      ]
     },
     "execution_count": 15,
     "metadata": {},
     "output_type": "execute_result"
    }
   ],
   "source": [
    "risk_free_rate = ten_year_treasury_rate.mean()\n",
    "risk_free_rate"
   ]
  },
  {
   "cell_type": "markdown",
   "metadata": {},
   "source": [
    "## Define the function to minimise"
   ]
  },
  {
   "cell_type": "code",
   "execution_count": 16,
   "metadata": {},
   "outputs": [],
   "source": [
    "def neg_sharpe(weights, log_returns, cov_matrix, risk_free_rate):\n",
    "    return -sharpe_ratio(weights, log_returns, cov_matrix, risk_free_rate)"
   ]
  },
  {
   "cell_type": "markdown",
   "metadata": {},
   "source": [
    "## Set the constraints"
   ]
  },
  {
   "cell_type": "code",
   "execution_count": 17,
   "metadata": {},
   "outputs": [],
   "source": [
    "constraints = {'type':'eq', 'fun': lambda x: np.sum(x)-1}\n",
    "bounds = [(0,0.5) for _ in range(len(tickers))]"
   ]
  },
  {
   "cell_type": "markdown",
   "metadata": {},
   "source": [
    "# Set the initial weights"
   ]
  },
  {
   "cell_type": "code",
   "execution_count": 18,
   "metadata": {},
   "outputs": [
    {
     "data": {
      "text/plain": [
       "array([0.2, 0.2, 0.2, 0.2, 0.2])"
      ]
     },
     "execution_count": 18,
     "metadata": {},
     "output_type": "execute_result"
    }
   ],
   "source": [
    "initial_weights = np.array([1/len(tickers)]*(len(tickers)))\n",
    "initial_weights"
   ]
  },
  {
   "cell_type": "markdown",
   "metadata": {},
   "source": [
    "# Optimise the weights to maximise the sharpe ratio "
   ]
  },
  {
   "cell_type": "code",
   "execution_count": 19,
   "metadata": {},
   "outputs": [],
   "source": [
    "optimised_returns = minimize(neg_sharpe, initial_weights, args=(log_returns, cov_matrix, risk_free_rate), method = 'SLSQP', constraints=constraints, bounds=bounds)"
   ]
  },
  {
   "cell_type": "code",
   "execution_count": 20,
   "metadata": {},
   "outputs": [
    {
     "data": {
      "text/plain": [
       " message: Optimization terminated successfully\n",
       " success: True\n",
       "  status: 0\n",
       "     fun: -0.5723751474020589\n",
       "       x: [ 1.561e-01  1.299e-16  4.719e-01  3.720e-01  0.000e+00]\n",
       "     nit: 10\n",
       "     jac: [-3.571e-01  1.312e-01 -3.576e-01 -3.570e-01 -3.091e-01]\n",
       "    nfev: 60\n",
       "    njev: 10"
      ]
     },
     "execution_count": 20,
     "metadata": {},
     "output_type": "execute_result"
    }
   ],
   "source": [
    "optimised_returns"
   ]
  },
  {
   "cell_type": "markdown",
   "metadata": {},
   "source": [
    "## Getting the optimal results"
   ]
  },
  {
   "cell_type": "code",
   "execution_count": 21,
   "metadata": {},
   "outputs": [
    {
     "data": {
      "text/plain": [
       "array([1.56097376e-01, 1.29887420e-16, 4.71943835e-01, 3.71958789e-01,\n",
       "       0.00000000e+00])"
      ]
     },
     "execution_count": 21,
     "metadata": {},
     "output_type": "execute_result"
    }
   ],
   "source": [
    "optimised_weights = optimised_returns.x\n",
    "optimised_weights"
   ]
  },
  {
   "cell_type": "markdown",
   "metadata": {},
   "source": [
    "## Displaying the analytics of the portfolio"
   ]
  },
  {
   "cell_type": "code",
   "execution_count": 22,
   "metadata": {},
   "outputs": [
    {
     "name": "stdout",
     "output_type": "stream",
     "text": [
      "Optimal Weights:\n",
      "spy: 15.6097%\n",
      "BND: 0.0000%\n",
      "GLD: 47.1944%\n",
      "QQQ: 37.1959%\n",
      "VTI: 0.0000%\n",
      "Expected Annual Return: 0.14\n",
      "Expected Volatility: 0.16\n",
      "Sharperatio: 0.57\n"
     ]
    }
   ],
   "source": [
    "print(\"Optimal Weights:\")\n",
    "for ticker, weight in zip(tickers, optimised_weights):\n",
    "    print(f\"{ticker}: {weight*100:.4f}%\")\n",
    "\n",
    "optimal_portfolio_return = expected_return(optimised_weights, log_returns)\n",
    "optimal_portfolio_volatility = standard_deviation(optimised_weights, cov_matrix)\n",
    "optimal_sharpe_ratio = sharpe_ratio(optimised_weights, log_returns, cov_matrix, risk_free_rate)\n",
    "\n",
    "print(f\"Expected Annual Return: {optimal_portfolio_return:.2f}\")\n",
    "print(f\"Expected Volatility: {optimal_portfolio_volatility:.2f}\")\n",
    "print(f\"Sharperatio: {optimal_sharpe_ratio:.2f}\")"
   ]
  }
 ],
 "metadata": {
  "kernelspec": {
   "display_name": "Housing",
   "language": "python",
   "name": "python3"
  },
  "language_info": {
   "codemirror_mode": {
    "name": "ipython",
    "version": 3
   },
   "file_extension": ".py",
   "mimetype": "text/x-python",
   "name": "python",
   "nbconvert_exporter": "python",
   "pygments_lexer": "ipython3",
   "version": "3.12.2"
  }
 },
 "nbformat": 4,
 "nbformat_minor": 2
}
